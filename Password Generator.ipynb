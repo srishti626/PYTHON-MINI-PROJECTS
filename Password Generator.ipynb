{
 "cells": [
  {
   "cell_type": "code",
   "execution_count": 8,
   "id": "5a3b92c2-c743-4d07-bdfb-72c3da900619",
   "metadata": {
    "tags": []
   },
   "outputs": [],
   "source": [
    "import tkinter as tk\n",
    "import random\n",
    "import string\n",
    "\n",
    "def generate_password():\n",
    "    length = int(e.get())\n",
    "    characters = string.ascii_letters + string.digits\n",
    "    password = ''.join(random.choice(characters) for _ in range(length))\n",
    "    p.config(text=\"Generated Password: \" + password)\n",
    "\n",
    "\n",
    "root = tk.Tk()\n",
    "root.geometry(\"400x400\")\n",
    "root.title(\"PASSWORD GENERATOR\")\n",
    "\n",
    "e = tk.Entry(root, width=15)\n",
    "e.pack(side=\"top\",anchor='c',padx=20,pady=20)\n",
    "\n",
    "b = tk.Button(root, width=15,font=('Arial',15,'bold'),text=\"Generate Password\", command=generate_password)\n",
    "b.pack(padx=15,pady=15)\n",
    "\n",
    "p = tk.Label(root, text=\"Generated Password: \",font=('Arial',15,'bold'))\n",
    "p.pack(padx=20,pady=20)\n",
    "\n",
    "root.mainloop()\n"
   ]
  },
  {
   "cell_type": "markdown",
   "id": "6fbd444c-9f56-4698-8710-912705c51c4b",
   "metadata": {},
   "source": []
  },
  {
   "cell_type": "code",
   "execution_count": null,
   "id": "9fb5ac97-ce1a-479b-900c-1eadeb8a4ca5",
   "metadata": {},
   "outputs": [],
   "source": []
  },
  {
   "cell_type": "code",
   "execution_count": null,
   "id": "e3e4bc14-dfbe-4df0-aee0-a160cd4b3d62",
   "metadata": {},
   "outputs": [],
   "source": []
  }
 ],
 "metadata": {
  "kernelspec": {
   "display_name": "Python 3 (ipykernel)",
   "language": "python",
   "name": "python3"
  },
  "language_info": {
   "codemirror_mode": {
    "name": "ipython",
    "version": 3
   },
   "file_extension": ".py",
   "mimetype": "text/x-python",
   "name": "python",
   "nbconvert_exporter": "python",
   "pygments_lexer": "ipython3",
   "version": "3.11.5"
  }
 },
 "nbformat": 4,
 "nbformat_minor": 5
}
