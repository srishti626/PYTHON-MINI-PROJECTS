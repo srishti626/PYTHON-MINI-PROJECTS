{
 "cells": [
  {
   "cell_type": "code",
   "execution_count": 13,
   "id": "54724f57-395c-46ae-88cc-f1e22c801897",
   "metadata": {
    "tags": []
   },
   "outputs": [],
   "source": [
    "import tkinter as tk\n",
    "from tkinter import StringVar, Label, Entry, Button\n",
    "\n",
    "def update_display():\n",
    "    d.set(e.get())\n",
    "\n",
    "# Create main window\n",
    "root = tk.Tk()\n",
    "root.geometry(\"600x400\")\n",
    "root.title(\"Text Entry and Display\")\n",
    "\n",
    "# StringVar for dynamic text update\n",
    "d = StringVar()\n",
    "\n",
    "# Entry widget for text entry\n",
    "e = Entry(root,font=('',20,'bold'),bd=5)\n",
    "e.place(relx=.3,rely=.3)\n",
    "\n",
    "# Display label\n",
    "l = Label(root, textvariable=d,font=('Arial', 14,'bold'))\n",
    "l.place(relx=.5,rely=.5)\n",
    "\n",
    "# Update button\n",
    "u = Button(root, text=\"Update Display\", command=update_display)\n",
    "u.place(relx=.4,rely=.6)\n",
    "\n",
    "root.mainloop()\n"
   ]
  },
  {
   "cell_type": "code",
   "execution_count": null,
   "id": "f08dbeb6-63e7-49a5-ab59-702a4693fe6d",
   "metadata": {},
   "outputs": [],
   "source": []
  }
 ],
 "metadata": {
  "kernelspec": {
   "display_name": "Python 3 (ipykernel)",
   "language": "python",
   "name": "python3"
  },
  "language_info": {
   "codemirror_mode": {
    "name": "ipython",
    "version": 3
   },
   "file_extension": ".py",
   "mimetype": "text/x-python",
   "name": "python",
   "nbconvert_exporter": "python",
   "pygments_lexer": "ipython3",
   "version": "3.11.5"
  }
 },
 "nbformat": 4,
 "nbformat_minor": 5
}
