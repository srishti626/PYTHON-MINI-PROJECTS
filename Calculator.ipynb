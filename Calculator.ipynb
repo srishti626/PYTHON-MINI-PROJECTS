{
 "cells": [
  {
   "cell_type": "code",
   "execution_count": 10,
   "id": "01410af8-df16-4ee3-a6a0-d950f3798bb9",
   "metadata": {
    "tags": []
   },
   "outputs": [],
   "source": [
    "from tkinter import *\n",
    "from tkinter import messagebox\n",
    "win=Tk()\n",
    "win.geometry(\"800x400\")\n",
    "win.configure(bg='#B0AFB4')\n",
    "win.title(\"SIMPLE CALCULATOR\")\n",
    "\n",
    "\n",
    "def add():\n",
    "    a=int(e1.get())\n",
    "    b=int(e2.get())\n",
    "    messagebox.showinfo(\"ADDITION\",a+b)\n",
    "    \n",
    "def mul():\n",
    "    a=int(e1.get())\n",
    "    b=int(e2.get())\n",
    "    messagebox.showinfo(\"MULTIPLICATION\",a*b)\n",
    "    \n",
    "def sub():\n",
    "    a=int(e1.get())\n",
    "    b=int(e2.get())\n",
    "    messagebox.showinfo(\"SUBTRACTION\",a-b)\n",
    "\n",
    "def div():\n",
    "    a=int(e1.get())\n",
    "    b=int(e2.get())\n",
    "    messagebox.showinfo(\"DIVISION\",a/b)\n",
    "\n",
    "l1=Label(win,text='1st num:',font=('',20,'bold'),bg='#B0AFB4')\n",
    "l1.place(relx=.2,rely=.2)\n",
    "\n",
    "e1=Entry(win,font=('',20,'bold'),bd=5)\n",
    "e1.place(relx=.4,rely=.2)\n",
    "\n",
    "l2=Label(win,text='2nd num:',font=('',20,'bold'),bg='#B0AFB4')\n",
    "l2.place(relx=.2,rely=.3)\n",
    "\n",
    "e2=Entry(win,font=('',20,'bold'),bd=5)\n",
    "e2.place(relx=.4,rely=.3)\n",
    "\n",
    "b1=Button(win,text=\"ADD\",font=('',20,'bold'),bd=5,command=add)\n",
    "b1.place(relx=.2,rely=.5)\n",
    "\n",
    "b2=Button(win,text=\"MUL\",font=('',20,'bold'),bd=5,command=mul)\n",
    "b2.place(relx=.4,rely=.5)\n",
    "\n",
    "b3=Button(win,text=\"SUB\",font=('',20,'bold'),bd=5,command=sub)\n",
    "b3.place(relx=.6,rely=.5)\n",
    "\n",
    "b4=Button(win,text=\"DIV\",font=('',20,'bold'),bd=5,command=div)\n",
    "b4.place(relx=.8,rely=.5)\n",
    "\n",
    "win.mainloop()"
   ]
  },
  {
   "cell_type": "code",
   "execution_count": null,
   "id": "fdfca150-1314-4ac9-a5c3-62c747c0dca0",
   "metadata": {},
   "outputs": [],
   "source": []
  }
 ],
 "metadata": {
  "kernelspec": {
   "display_name": "Python 3 (ipykernel)",
   "language": "python",
   "name": "python3"
  },
  "language_info": {
   "codemirror_mode": {
    "name": "ipython",
    "version": 3
   },
   "file_extension": ".py",
   "mimetype": "text/x-python",
   "name": "python",
   "nbconvert_exporter": "python",
   "pygments_lexer": "ipython3",
   "version": "3.11.5"
  }
 },
 "nbformat": 4,
 "nbformat_minor": 5
}
