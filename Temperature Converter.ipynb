{
 "cells": [
  {
   "cell_type": "code",
   "execution_count": 3,
   "id": "fb0c3e4a-b488-42a1-a771-88d09360004c",
   "metadata": {},
   "outputs": [],
   "source": [
    "import tkinter as tk\n",
    "\n",
    "def convert_to_celsius():\n",
    "    f = e.get()\n",
    "    try:\n",
    "        c = (float(f) - 32) * 5/9\n",
    "        r.config(text=f\"{f} Fahrenheit is {c:.2f} Celsius\")\n",
    "    except ValueError:\n",
    "        r.config(text=\"Invalid input\")\n",
    "\n",
    "# Create main window\n",
    "root = tk.Tk()\n",
    "root.geometry(\"400x400\")\n",
    "root.title(\"Temperature Converter\")\n",
    "\n",
    "# Entry widget for Fahrenheit input\n",
    "e = tk.Entry(root, width=30)\n",
    "e.pack(side=\"top\",anchor='c',padx=20,pady=20)\n",
    "\n",
    "# Button to convert to Celsius\n",
    "b = tk.Button(root, text=\"Convert\", command=convert_to_celsius)\n",
    "b.pack(padx=20,pady=20)\n",
    "\n",
    "# Label to display result\n",
    "r = tk.Label(root, text=\"\")\n",
    "r.pack(padx=20,pady=20)\n",
    "\n",
    "root.mainloop()\n"
   ]
  },
  {
   "cell_type": "code",
   "execution_count": null,
   "id": "b6b744c1-50f0-41d3-bff6-b7e9ff010ab0",
   "metadata": {},
   "outputs": [],
   "source": []
  }
 ],
 "metadata": {
  "kernelspec": {
   "display_name": "Python 3 (ipykernel)",
   "language": "python",
   "name": "python3"
  },
  "language_info": {
   "codemirror_mode": {
    "name": "ipython",
    "version": 3
   },
   "file_extension": ".py",
   "mimetype": "text/x-python",
   "name": "python",
   "nbconvert_exporter": "python",
   "pygments_lexer": "ipython3",
   "version": "3.11.5"
  }
 },
 "nbformat": 4,
 "nbformat_minor": 5
}
