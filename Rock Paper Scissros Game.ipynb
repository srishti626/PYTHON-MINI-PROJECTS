{
 "cells": [
  {
   "cell_type": "code",
   "execution_count": 8,
   "id": "8ffd2083-52ba-4f35-83a0-b690ee9e857b",
   "metadata": {
    "tags": []
   },
   "outputs": [],
   "source": [
    "import tkinter as tk\n",
    "from tkinter import messagebox\n",
    "from tkinter import simpledialog\n",
    "import random\n",
    "\n",
    "def play_game():\n",
    "    u_choice = get_user_choice()\n",
    "    c_choice = get_computer_choice()\n",
    "\n",
    "    res = determine_winner(u_choice, c_choice)\n",
    "    messagebox.showinfo(\"Result\", res)\n",
    "\n",
    "    if \"win\" in result:\n",
    "        u_score_var.set(user_score_var.get() + 1)\n",
    "    elif \"lose\" in result:\n",
    "        c_score_var.set(computer_score_var.get() + 1)\n",
    "\n",
    "    update_score_label()\n",
    "\n",
    "def get_user_choice():\n",
    "    u_choice = simpledialog.askstring(\"Input\", \"Choose rock, paper, or scissors:\")\n",
    "    return u_choice.lower() if u_choice in [\"rock\", \"paper\", \"scissors\"] else \"\"\n",
    "\n",
    "def get_computer_choice():\n",
    "    return random.choice([\"rock\", \"paper\", \"scissors\"])\n",
    "\n",
    "def determine_winner(u_choice, c_choice):\n",
    "    if u_choice == c_choice:\n",
    "        return \"It's a tie!\"\n",
    "    elif ((u_choice == \"rock\" and c_choice == \"scissors\") or\n",
    "          (u_choice == \"scissors\" and c_choice == \"paper\") or\n",
    "          (u_choice == \"paper\" and c_choice == \"rock\")):\n",
    "        return f\"You win! Computer chose {c_choice}.\"\n",
    "    else:\n",
    "        return f\"Computer wins! Computer chose {c_choice}.\"\n",
    "\n",
    "def update_score_label():\n",
    "    l_score.config(text=f\"Score: User - {u_score_var.get()}, Computer - {c_score_var.get()}\")\n",
    "\n",
    "if __name__ == \"__main__\":\n",
    "    root = tk.Tk()\n",
    "    root.geometry(\"350x200\")\n",
    "    root.title(\"Rock-Paper-Scissors Game\")\n",
    "\n",
    "    u_score_var = tk.IntVar()\n",
    "    c_score_var = tk.IntVar()\n",
    "\n",
    "    l_score = tk.Label(root, text=\"Score: User - 0, Computer - 0\")\n",
    "    l_score.pack(pady=10)\n",
    "\n",
    "    btn_play = tk.Button(root, text=\"Play\", command=play_game)\n",
    "    btn_play.pack(pady=10)\n",
    "\n",
    "    btn_exit = tk.Button(root, text=\"Exit\", command=root.destroy)\n",
    "    btn_exit.pack(pady=10)\n",
    "\n",
    "    root.mainloop()\n"
   ]
  },
  {
   "cell_type": "code",
   "execution_count": null,
   "id": "d4780829-e48b-4d75-be8c-1b17c158a22b",
   "metadata": {},
   "outputs": [],
   "source": []
  }
 ],
 "metadata": {
  "kernelspec": {
   "display_name": "Python 3 (ipykernel)",
   "language": "python",
   "name": "python3"
  },
  "language_info": {
   "codemirror_mode": {
    "name": "ipython",
    "version": 3
   },
   "file_extension": ".py",
   "mimetype": "text/x-python",
   "name": "python",
   "nbconvert_exporter": "python",
   "pygments_lexer": "ipython3",
   "version": "3.11.5"
  }
 },
 "nbformat": 4,
 "nbformat_minor": 5
}
