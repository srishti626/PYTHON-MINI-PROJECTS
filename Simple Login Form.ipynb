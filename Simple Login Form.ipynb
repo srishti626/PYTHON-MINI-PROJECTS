{
 "cells": [
  {
   "cell_type": "code",
   "execution_count": 5,
   "id": "cee3b489-0b22-4748-8279-bf3d979ec76d",
   "metadata": {
    "tags": []
   },
   "outputs": [],
   "source": [
    "import tkinter as tk\n",
    "\n",
    "def login():\n",
    "    username = u.get()\n",
    "    password = p.get()\n",
    "    if username == \"user\" and password == \"password\":\n",
    "        r.config(text=\"Login successful!\")\n",
    "    else:\n",
    "        r.config(text=\"Login failed\")\n",
    "\n",
    "# Create main window\n",
    "root = tk.Tk()\n",
    "root.geometry(\"300x300\")\n",
    "root.title(\"Login Form\")\n",
    "\n",
    "# Entry widgets for username and password\n",
    "u = tk.Entry(root, width=30)\n",
    "u.pack()\n",
    "\n",
    "p = tk.Entry(root, width=30, show=\"*\")\n",
    "p.pack(padx=5,pady=5)\n",
    "\n",
    "# Button to trigger login\n",
    "l = tk.Button(root, text=\"Login\", command=login)\n",
    "l.pack(padx=5,pady=5)\n",
    "\n",
    "# Label to display result\n",
    "r = tk.Label(root, text=\"\")\n",
    "r.pack(padx=5,pady=5)\n",
    "\n",
    "root.mainloop()"
   ]
  },
  {
   "cell_type": "code",
   "execution_count": null,
   "id": "af311db2-df08-4348-a299-0417c80f91a6",
   "metadata": {},
   "outputs": [],
   "source": []
  }
 ],
 "metadata": {
  "kernelspec": {
   "display_name": "Python 3 (ipykernel)",
   "language": "python",
   "name": "python3"
  },
  "language_info": {
   "codemirror_mode": {
    "name": "ipython",
    "version": 3
   },
   "file_extension": ".py",
   "mimetype": "text/x-python",
   "name": "python",
   "nbconvert_exporter": "python",
   "pygments_lexer": "ipython3",
   "version": "3.11.5"
  }
 },
 "nbformat": 4,
 "nbformat_minor": 5
}
