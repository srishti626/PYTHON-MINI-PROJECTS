{
 "cells": [
  {
   "cell_type": "code",
   "execution_count": 3,
   "id": "61cf37d5-72c1-48c4-9c32-9b00e0c77dc9",
   "metadata": {
    "tags": []
   },
   "outputs": [],
   "source": [
    "import tkinter as tk\n",
    "\n",
    "def add_task():\n",
    "    task = entry.get()\n",
    "    if task:\n",
    "        lb.insert(tk.END, task)\n",
    "        entry.delete(0, tk.END)\n",
    "\n",
    "def delete_task():\n",
    "    selected_task = lb.curselection()\n",
    "    if selected_task:\n",
    "        lb.delete(selected_task)\n",
    "\n",
    "# Create main window\n",
    "root = tk.Tk()\n",
    "root.geometry(\"600x400\")\n",
    "root.title(\"TO DO LIST\")\n",
    "\n",
    "# Entry widget for task input\n",
    "entry = tk.Entry(root,font=('Arial',20,'bold'),bd=5)\n",
    "entry.pack()\n",
    "\n",
    "# Button to add task\n",
    "a = tk.Button(root, text=\"Add Task\", font=('Arial',15,'bold'),command=add_task)\n",
    "a.pack(padx=5,pady=5)\n",
    "\n",
    "# Listbox to display tasks\n",
    "lb = tk.Listbox(root, selectmode=tk.SINGLE)\n",
    "lb.pack(padx=5,pady=5)\n",
    "\n",
    "# Button to delete selected task\n",
    "d = tk.Button(root, font=('Arial',15,'bold'),text=\"Delete Task\", command=delete_task)\n",
    "d.pack(padx=5,pady=5)\n",
    "\n",
    "root.mainloop()"
   ]
  },
  {
   "cell_type": "code",
   "execution_count": null,
   "id": "20e2f000-b2d7-41d3-8f38-8bffdf4751f9",
   "metadata": {},
   "outputs": [],
   "source": []
  },
  {
   "cell_type": "code",
   "execution_count": null,
   "id": "87ae59b7-d85d-430d-8296-50f863e8b650",
   "metadata": {},
   "outputs": [],
   "source": []
  }
 ],
 "metadata": {
  "kernelspec": {
   "display_name": "Python 3 (ipykernel)",
   "language": "python",
   "name": "python3"
  },
  "language_info": {
   "codemirror_mode": {
    "name": "ipython",
    "version": 3
   },
   "file_extension": ".py",
   "mimetype": "text/x-python",
   "name": "python",
   "nbconvert_exporter": "python",
   "pygments_lexer": "ipython3",
   "version": "3.11.5"
  }
 },
 "nbformat": 4,
 "nbformat_minor": 5
}
