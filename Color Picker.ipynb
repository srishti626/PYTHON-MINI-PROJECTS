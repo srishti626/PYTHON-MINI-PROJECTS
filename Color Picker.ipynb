{
 "cells": [
  {
   "cell_type": "code",
   "execution_count": 1,
   "id": "56d8fd46-80c1-4773-8b06-babe414e00de",
   "metadata": {
    "tags": []
   },
   "outputs": [],
   "source": [
    "import tkinter as tk\n",
    "from tkinter import colorchooser\n",
    "\n",
    "def open_color_dialog():\n",
    "    color_code, color_name = colorchooser.askcolor(title=\"Choose Color\")\n",
    "    if color_code:\n",
    "        # Convert RGB tuple to hexadecimal color code\n",
    "        hex_color = \"#{:02x}{:02x}{:02x}\".format(int(color_code[0]), int(color_code[1]), int(color_code[2]))\n",
    "        l.config(text=\"Selected Color: \" + str(hex_color), bg=hex_color)\n",
    "\n",
    "root = tk.Tk()\n",
    "root.geometry(\"400x400\")\n",
    "root.title(\"Color Picker\")\n",
    "\n",
    "c = tk.Button(root, text=\"Pick a Color\", command=open_color_dialog)\n",
    "c.pack(side=\"top\", anchor='c', padx=20, pady=20)\n",
    "\n",
    "l = tk.Label(root, text=\"Selected Color: \")\n",
    "l.pack(padx=20, pady=20)\n",
    "\n",
    "root.mainloop()"
   ]
  },
  {
   "cell_type": "code",
   "execution_count": null,
   "id": "a299e4e2-4c0f-4784-9dbc-be3b3620dcbf",
   "metadata": {},
   "outputs": [],
   "source": []
  }
 ],
 "metadata": {
  "kernelspec": {
   "display_name": "Python 3 (ipykernel)",
   "language": "python",
   "name": "python3"
  },
  "language_info": {
   "codemirror_mode": {
    "name": "ipython",
    "version": 3
   },
   "file_extension": ".py",
   "mimetype": "text/x-python",
   "name": "python",
   "nbconvert_exporter": "python",
   "pygments_lexer": "ipython3",
   "version": "3.11.5"
  }
 },
 "nbformat": 4,
 "nbformat_minor": 5
}
