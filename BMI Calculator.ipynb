{
 "cells": [
  {
   "cell_type": "code",
   "execution_count": 1,
   "id": "c0849cb1-ab58-4fe4-b1ae-93b360dd2dc0",
   "metadata": {
    "tags": []
   },
   "outputs": [],
   "source": [
    "import tkinter as tk\n",
    "\n",
    "def calculate_bmi():\n",
    "    try:\n",
    "        weight = float(w.get())\n",
    "        height = float(h.get())\n",
    "        bmi = weight / (height ** 2)\n",
    "        r.config(text=f\"Your BMI is {bmi:.2f}\")\n",
    "    except ValueError:\n",
    "        r.config(text=\"Invalid input\")\n",
    "\n",
    "\n",
    "root = tk.Tk()\n",
    "root.geometry(\"400x400\")\n",
    "root.title(\"BMI Calculator\")\n",
    "\n",
    "\n",
    "w = tk.Entry(root)\n",
    "w.pack(side=\"top\",anchor='c',padx=20,pady=20)\n",
    "\n",
    "h = tk.Entry(root)\n",
    "h.pack(side=\"top\",anchor='c',padx=20,pady=20)\n",
    "\n",
    "b = tk.Button(root, text=\"Calculate BMI\", command=calculate_bmi)\n",
    "b.pack(padx=20,pady=20)\n",
    "\n",
    "r = tk.Label(root, text=\"\")\n",
    "r.pack(padx=20,pady=20)\n",
    "\n",
    "root.mainloop()"
   ]
  },
  {
   "cell_type": "code",
   "execution_count": null,
   "id": "3c85131d-092c-4244-b170-bd21ae2dc367",
   "metadata": {},
   "outputs": [],
   "source": []
  }
 ],
 "metadata": {
  "kernelspec": {
   "display_name": "Python 3 (ipykernel)",
   "language": "python",
   "name": "python3"
  },
  "language_info": {
   "codemirror_mode": {
    "name": "ipython",
    "version": 3
   },
   "file_extension": ".py",
   "mimetype": "text/x-python",
   "name": "python",
   "nbconvert_exporter": "python",
   "pygments_lexer": "ipython3",
   "version": "3.11.5"
  }
 },
 "nbformat": 4,
 "nbformat_minor": 5
}
