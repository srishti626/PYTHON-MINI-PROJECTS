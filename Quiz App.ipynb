{
 "cells": [
  {
   "cell_type": "code",
   "execution_count": 1,
   "id": "2bf9aeaf-60a3-4efe-83f8-e4b4df60ce99",
   "metadata": {
    "tags": []
   },
   "outputs": [],
   "source": [
    "import tkinter as tk\n",
    "\n",
    "class QuizApp:\n",
    "    def __init__(self, master):\n",
    "        self.master = master\n",
    "        self.master.title(\"Quiz App\")\n",
    "\n",
    "        self.questions = [\n",
    "            \"What is the capital of France?\",\n",
    "            \"Who wrote 'Romeo and Juliet'?\",\n",
    "            \"What is the largest mammal?\"\n",
    "        ]\n",
    "\n",
    "        self.answers = [\"Paris\", \"William Shakespeare\", \"Blue Whale\"]\n",
    "\n",
    "        self.current_question = 0\n",
    "        self.score = 0\n",
    "\n",
    "        self.question_label = tk.Label(master, text=self.questions[self.current_question])\n",
    "        self.question_label.pack()\n",
    "\n",
    "        self.answer_entry = tk.Entry(master)\n",
    "        self.answer_entry.pack()\n",
    "\n",
    "        self.submit_button = tk.Button(master, text=\"Submit Answer\", command=self.check_answer)\n",
    "        self.submit_button.pack()\n",
    "\n",
    "        self.score_label = tk.Label(master, text=\"Score: 0\")\n",
    "        self.score_label.pack()\n",
    "\n",
    "    def check_answer(self):\n",
    "        user_answer = self.answer_entry.get()\n",
    "        correct_answer = self.answers[self.current_question]\n",
    "\n",
    "        if user_answer.lower() == correct_answer.lower():\n",
    "            self.score += 1\n",
    "\n",
    "        self.current_question += 1\n",
    "        if self.current_question < len(self.questions):\n",
    "            self.update_question()\n",
    "        else:\n",
    "            self.show_result()\n",
    "\n",
    "    def update_question(self):\n",
    "        self.question_label.config(text=self.questions[self.current_question])\n",
    "        self.answer_entry.delete(0, tk.END)\n",
    "\n",
    "    def show_result(self):\n",
    "        result_text = f\"You scored {self.score} out of {len(self.questions)}\"\n",
    "        self.score_label.config(text=result_text)\n",
    "        self.submit_button.config(state=tk.DISABLED)\n",
    "\n",
    "# Create main window\n",
    "root = tk.Tk()\n",
    "app = QuizApp(root)\n",
    "root.mainloop()\n"
   ]
  },
  {
   "cell_type": "code",
   "execution_count": null,
   "id": "1f4bf946-ea00-40f8-8cd3-f1934795862a",
   "metadata": {},
   "outputs": [],
   "source": []
  }
 ],
 "metadata": {
  "kernelspec": {
   "display_name": "Python 3 (ipykernel)",
   "language": "python",
   "name": "python3"
  },
  "language_info": {
   "codemirror_mode": {
    "name": "ipython",
    "version": 3
   },
   "file_extension": ".py",
   "mimetype": "text/x-python",
   "name": "python",
   "nbconvert_exporter": "python",
   "pygments_lexer": "ipython3",
   "version": "3.11.5"
  }
 },
 "nbformat": 4,
 "nbformat_minor": 5
}
