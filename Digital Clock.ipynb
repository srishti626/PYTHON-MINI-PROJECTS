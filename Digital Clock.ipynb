{
 "cells": [
  {
   "cell_type": "code",
   "execution_count": 1,
   "id": "f4614993-5e79-4460-ba97-e2bf89950867",
   "metadata": {
    "tags": []
   },
   "outputs": [],
   "source": [
    "import tkinter as tk\n",
    "from time import strftime\n",
    "\n",
    "def update_time():\n",
    "    c = strftime('%H:%M:%S %p')\n",
    "    t.config(text=c)\n",
    "    t.after(1000, update_time)\n",
    "\n",
    "root = tk.Tk()\n",
    "root.geometry(\"400x400\")\n",
    "root.title(\"Digital Clock\")\n",
    "\n",
    "\n",
    "t = tk.Label(root, font=('calibri', 40, 'bold'), background='grey')\n",
    "t.pack(anchor='center',padx=20,pady=20)\n",
    "\n",
    "update_time()\n",
    "\n",
    "root.mainloop()"
   ]
  },
  {
   "cell_type": "code",
   "execution_count": null,
   "id": "4b1c0d53-1830-468d-a679-e8a5b0476fd2",
   "metadata": {},
   "outputs": [],
   "source": []
  }
 ],
 "metadata": {
  "kernelspec": {
   "display_name": "Python 3 (ipykernel)",
   "language": "python",
   "name": "python3"
  },
  "language_info": {
   "codemirror_mode": {
    "name": "ipython",
    "version": 3
   },
   "file_extension": ".py",
   "mimetype": "text/x-python",
   "name": "python",
   "nbconvert_exporter": "python",
   "pygments_lexer": "ipython3",
   "version": "3.11.5"
  }
 },
 "nbformat": 4,
 "nbformat_minor": 5
}
